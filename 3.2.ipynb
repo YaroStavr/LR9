{
 "cells": [
  {
   "cell_type": "code",
   "execution_count": 103,
   "id": "1b513254",
   "metadata": {},
   "outputs": [
    {
     "name": "stdout",
     "output_type": "stream",
     "text": [
      "Введите размер матрицы: 3\n",
      "Исходная таблица: \n",
      "[[ 3 -5 -3]\n",
      " [ 2  6 -1]\n",
      " [-4  0 -2]]\n",
      "Матрица c:\n",
      "[0, 5, 4]\n",
      "Измененная матрица Matr:\n",
      "[[ 3 -3 -5]\n",
      " [ 2 -1  6]\n",
      " [-4  0 -2]]\n",
      "Измененная матрица c:\n",
      "[0, 4, 5]\n"
     ]
    }
   ],
   "source": [
    "\"\"\"\n",
    "Характеристикой столбца целочисленной матрицы назовем сумму модулей его\n",
    "отрицательных нечетных элементов. Переставляя столбцы заданной матрицы, расположить\n",
    "их в соответствий с ростом характеристик. Найти сумму элементов в тех столбцах, которые\n",
    "содержат хотя бы один отрицательный элемент.\n",
    "\"\"\"\n",
    "\n",
    "import numpy as np\n",
    "\n",
    "a = -7\n",
    "b = 7\n",
    "n = int(input(\"Введите размер матрицы: \"))\n",
    "c = [0]*n\n",
    "\n",
    "Matr = np.random.randint(a, b, (n, n))\n",
    "print(\"Исходная таблица: \") \n",
    "print(Matr) \n",
    "k = 1\n",
    "flag = int(1)\n",
    "#print(\"Заполнение c\")\n",
    "for j in range(n):\n",
    "    c[j]=0\n",
    "    for i in range(n): \n",
    "        if ( Matr[i][j]<0 and Matr[i][j]%2!=0):\n",
    "            c[j]+=abs(Matr[i][j])  \n",
    "            \n",
    "print(\"Матрица c:\")\n",
    "print(c)\n",
    "while (flag==1):\n",
    "    flag = 0\n",
    "    for j in range (n-1):\n",
    "\n",
    "        for j in range(1,n-1):    \n",
    "            for k in range(n-j):\n",
    "                if (c[k]>c[k+1]):\n",
    "                    c[k],c[k+1] = c[k+1],c[k]\n",
    "                    flag = 1\n",
    "                    for i in range(n-1):\n",
    "                        Matr[i][k],Matr[i][k+1] = Matr[i][k+1],Matr[i][k] \n",
    "\n",
    "print(\"Измененная матрица Matr:\")                    \n",
    "print(Matr) \n",
    "print(\"Измененная матрица c:\")\n",
    "print(c) \n",
    "#print(Matr[1][1])\n",
    "\n"
   ]
  },
  {
   "cell_type": "code",
   "execution_count": null,
   "id": "a40372fe",
   "metadata": {},
   "outputs": [],
   "source": []
  },
  {
   "cell_type": "code",
   "execution_count": null,
   "id": "8d423b93",
   "metadata": {},
   "outputs": [],
   "source": []
  }
 ],
 "metadata": {
  "kernelspec": {
   "display_name": "Python 3 (ipykernel)",
   "language": "python",
   "name": "python3"
  },
  "language_info": {
   "codemirror_mode": {
    "name": "ipython",
    "version": 3
   },
   "file_extension": ".py",
   "mimetype": "text/x-python",
   "name": "python",
   "nbconvert_exporter": "python",
   "pygments_lexer": "ipython3",
   "version": "3.9.7"
  }
 },
 "nbformat": 4,
 "nbformat_minor": 5
}
